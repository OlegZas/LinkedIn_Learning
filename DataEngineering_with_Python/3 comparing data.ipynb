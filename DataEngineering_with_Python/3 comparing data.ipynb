{
 "cells": [
  {
   "cell_type": "code",
   "execution_count": 2,
   "metadata": {},
   "outputs": [
    {
     "data": {
      "text/html": [
       "<span style=\"None\">Loading configurations from /workspaces/fundamentals-of-data-transformation-4554074/pyproject.toml.</span>"
      ],
      "text/plain": [
       "Loading configurations from /workspaces/fundamentals-of-data-transformation-4554074/pyproject.toml."
      ]
     },
     "metadata": {},
     "output_type": "display_data"
    },
    {
     "data": {
      "text/html": [
       "<span style=\"None\">Settings changed:</span>"
      ],
      "text/plain": [
       "Settings changed:"
      ]
     },
     "metadata": {},
     "output_type": "display_data"
    },
    {
     "data": {
      "text/html": [
       "\n",
       "<table>\n",
       "    <thead>\n",
       "        <tr>\n",
       "            <th>Config</th>\n",
       "            <th>value</th>\n",
       "        </tr>\n",
       "    </thead>\n",
       "    <tbody>\n",
       "        <tr>\n",
       "            <td>feedback</td>\n",
       "            <td>True</td>\n",
       "        </tr>\n",
       "        <tr>\n",
       "            <td>autopandas</td>\n",
       "            <td>True</td>\n",
       "        </tr>\n",
       "        <tr>\n",
       "            <td>displaylimit</td>\n",
       "            <td>10</td>\n",
       "        </tr>\n",
       "        <tr>\n",
       "            <td>displaycon</td>\n",
       "            <td>False</td>\n",
       "        </tr>\n",
       "    </tbody>\n",
       "</table>"
      ],
      "text/plain": [
       "\n",
       "+--------------+-------+\n",
       "|    Config    | value |\n",
       "+--------------+-------+\n",
       "|   feedback   |  True |\n",
       "|  autopandas  |  True |\n",
       "| displaylimit |   10  |\n",
       "|  displaycon  | False |\n",
       "+--------------+-------+"
      ]
     },
     "metadata": {},
     "output_type": "display_data"
    },
    {
     "data": {
      "text/html": [
       "<div>\n",
       "<style scoped>\n",
       "    .dataframe tbody tr th:only-of-type {\n",
       "        vertical-align: middle;\n",
       "    }\n",
       "\n",
       "    .dataframe tbody tr th {\n",
       "        vertical-align: top;\n",
       "    }\n",
       "\n",
       "    .dataframe thead th {\n",
       "        text-align: right;\n",
       "    }\n",
       "</style>\n",
       "<table border=\"1\" class=\"dataframe\">\n",
       "  <thead>\n",
       "    <tr style=\"text-align: right;\">\n",
       "      <th></th>\n",
       "      <th>Count</th>\n",
       "    </tr>\n",
       "  </thead>\n",
       "  <tbody>\n",
       "    <tr>\n",
       "      <th>0</th>\n",
       "      <td>224</td>\n",
       "    </tr>\n",
       "  </tbody>\n",
       "</table>\n",
       "</div>"
      ],
      "text/plain": [
       "   Count\n",
       "0    224"
      ]
     },
     "execution_count": 2,
     "metadata": {},
     "output_type": "execute_result"
    }
   ],
   "source": [
    "import duckdb\n",
    "\n",
    "# Load SQL extension\n",
    "%load_ext sql\n",
    "\n",
    "# Initialize 🦆 DuckDB connection\n",
    "conn = duckdb.connect()\n",
    "\n",
    "# Import database\n",
    "%sql conn --alias duckdb\n",
    "%sql IMPORT DATABASE '../../data/nps';"
   ]
  },
  {
   "cell_type": "code",
   "execution_count": 9,
   "metadata": {
    "vscode": {
     "languageId": "sql"
    }
   },
   "outputs": [
    {
     "data": {
      "text/html": [
       "<div>\n",
       "<style scoped>\n",
       "    .dataframe tbody tr th:only-of-type {\n",
       "        vertical-align: middle;\n",
       "    }\n",
       "\n",
       "    .dataframe tbody tr th {\n",
       "        vertical-align: top;\n",
       "    }\n",
       "\n",
       "    .dataframe thead th {\n",
       "        text-align: right;\n",
       "    }\n",
       "</style>\n",
       "<table border=\"1\" class=\"dataframe\">\n",
       "  <thead>\n",
       "    <tr style=\"text-align: right;\">\n",
       "      <th></th>\n",
       "      <th>name</th>\n",
       "      <th>designation</th>\n",
       "      <th>isPassportStampLocation</th>\n",
       "      <th>visitor_center_name</th>\n",
       "    </tr>\n",
       "  </thead>\n",
       "  <tbody>\n",
       "    <tr>\n",
       "      <th>0</th>\n",
       "      <td>Statue Of Liberty</td>\n",
       "      <td>National Monument</td>\n",
       "      <td>1</td>\n",
       "      <td>Liberty Island Information Center</td>\n",
       "    </tr>\n",
       "    <tr>\n",
       "      <th>1</th>\n",
       "      <td>Tuzigoot</td>\n",
       "      <td>National Monument</td>\n",
       "      <td>1</td>\n",
       "      <td>Tuzigoot Visitor Center</td>\n",
       "    </tr>\n",
       "    <tr>\n",
       "      <th>2</th>\n",
       "      <td>Timpanogos Cave</td>\n",
       "      <td>National Monument</td>\n",
       "      <td>1</td>\n",
       "      <td>Timpanogos Cave Visitor Center</td>\n",
       "    </tr>\n",
       "  </tbody>\n",
       "</table>\n",
       "</div>"
      ],
      "text/plain": [
       "                name        designation  isPassportStampLocation  \\\n",
       "0  Statue Of Liberty  National Monument                        1   \n",
       "1           Tuzigoot  National Monument                        1   \n",
       "2    Timpanogos Cave  National Monument                        1   \n",
       "\n",
       "                 visitor_center_name  \n",
       "0  Liberty Island Information Center  \n",
       "1            Tuzigoot Visitor Center  \n",
       "2     Timpanogos Cave Visitor Center  "
      ]
     },
     "execution_count": 9,
     "metadata": {},
     "output_type": "execute_result"
    }
   ],
   "source": [
    "%%sql\n",
    "SELECT\n",
    "    p.name,\n",
    "    p.designation,\n",
    "    vc.ispassportstamplocation,\n",
    "    vc.name as visitor_center_name\n",
    "FROM nps_public_data.parks p\n",
    "LEFT JOIN nps_public_data.visitorcenters vc\n",
    "    ON p.parkcode = vc.parkcode\n",
    "WHERE 1 = 1\n",
    "    AND p.designation = 'National Monument'\n",
    "    AND vc.ispassportstamplocation\n",
    "LIMIT 3"
   ]
  },
  {
   "cell_type": "code",
   "execution_count": 10,
   "metadata": {
    "vscode": {
     "languageId": "sql"
    }
   },
   "outputs": [
    {
     "data": {
      "text/html": [
       "<div>\n",
       "<style scoped>\n",
       "    .dataframe tbody tr th:only-of-type {\n",
       "        vertical-align: middle;\n",
       "    }\n",
       "\n",
       "    .dataframe tbody tr th {\n",
       "        vertical-align: top;\n",
       "    }\n",
       "\n",
       "    .dataframe thead th {\n",
       "        text-align: right;\n",
       "    }\n",
       "</style>\n",
       "<table border=\"1\" class=\"dataframe\">\n",
       "  <thead>\n",
       "    <tr style=\"text-align: right;\">\n",
       "      <th></th>\n",
       "      <th>ct</th>\n",
       "    </tr>\n",
       "  </thead>\n",
       "  <tbody>\n",
       "    <tr>\n",
       "      <th>0</th>\n",
       "      <td>703</td>\n",
       "    </tr>\n",
       "    <tr>\n",
       "      <th>1</th>\n",
       "      <td>703</td>\n",
       "    </tr>\n",
       "  </tbody>\n",
       "</table>\n",
       "</div>"
      ],
      "text/plain": [
       "    ct\n",
       "0  703\n",
       "1  703"
      ]
     },
     "execution_count": 10,
     "metadata": {},
     "output_type": "execute_result"
    }
   ],
   "source": [
    "%%sql\n",
    "WITH filter_in_join AS (\n",
    "    SELECT\n",
    "        p.name,\n",
    "        vc.name as visitor_center_name\n",
    "    FROM nps_public_data.parks p\n",
    "    INNER JOIN nps_public_data.visitorcenters vc\n",
    "        ON p.parkcode = vc.parkcode\n",
    "), filter_in_where AS (\n",
    "    SELECT\n",
    "        p.name,\n",
    "        vc.name as visitor_center_name\n",
    "    FROM nps_public_data.parks p\n",
    "    LEFT JOIN nps_public_data.visitorcenters vc\n",
    "        ON p.parkcode = vc.parkcode\n",
    "    WHERE vc.parkcode IS NOT NULL\n",
    ")\n",
    "SELECT\n",
    "    COUNT(*) as ct\n",
    "FROM filter_in_join\n",
    "\n",
    "UNION ALL\n",
    "\n",
    "SELECT\n",
    "    COUNT(*) as ct\n",
    "FROM filter_in_where\n"
   ]
  },
  {
   "cell_type": "markdown",
   "metadata": {},
   "source": [
    "OPERATORS:\n",
    "\n",
    "1. Comparisons (`>`, `<`, `=`)\n",
    "2. `BETWEEN`\n",
    "3. `IN`\n",
    "4. `IS NULL`\n",
    "5. `LIKE` & `ILIKE` // `REGEXP`\n",
    "\n",
    "\n",
    "`ILIKE`, `LIKE`, and `REGEXP` are all useful when pattern matching is at play."
   ]
  },
  {
   "cell_type": "code",
   "execution_count": 11,
   "metadata": {
    "vscode": {
     "languageId": "sql"
    }
   },
   "outputs": [
    {
     "data": {
      "text/html": [
       "<div>\n",
       "<style scoped>\n",
       "    .dataframe tbody tr th:only-of-type {\n",
       "        vertical-align: middle;\n",
       "    }\n",
       "\n",
       "    .dataframe tbody tr th {\n",
       "        vertical-align: top;\n",
       "    }\n",
       "\n",
       "    .dataframe thead th {\n",
       "        text-align: right;\n",
       "    }\n",
       "</style>\n",
       "<table border=\"1\" class=\"dataframe\">\n",
       "  <thead>\n",
       "    <tr style=\"text-align: right;\">\n",
       "      <th></th>\n",
       "      <th>title</th>\n",
       "      <th>parkfullname</th>\n",
       "      <th>category</th>\n",
       "      <th>isfree</th>\n",
       "      <th>description</th>\n",
       "    </tr>\n",
       "  </thead>\n",
       "  <tbody>\n",
       "    <tr>\n",
       "      <th>0</th>\n",
       "      <td>Acadian Cultural Center - Louisiana Talks &amp; Tales</td>\n",
       "      <td>Jean Lafitte National Historical Park and Pres...</td>\n",
       "      <td>Regular Event</td>\n",
       "      <td>True</td>\n",
       "      <td>&lt;p&gt;Join a ranger to learn about the history, c...</td>\n",
       "    </tr>\n",
       "  </tbody>\n",
       "</table>\n",
       "</div>"
      ],
      "text/plain": [
       "                                               title  \\\n",
       "0  Acadian Cultural Center - Louisiana Talks & Tales   \n",
       "\n",
       "                                        parkfullname       category  isfree  \\\n",
       "0  Jean Lafitte National Historical Park and Pres...  Regular Event    True   \n",
       "\n",
       "                                         description  \n",
       "0  <p>Join a ranger to learn about the history, c...  "
      ]
     },
     "execution_count": 11,
     "metadata": {},
     "output_type": "execute_result"
    }
   ],
   "source": [
    "%%sql\n",
    "SELECT\n",
    "    title,\n",
    "    parkfullname,\n",
    "    category,\n",
    "    isfree,\n",
    "    description\n",
    "FROM nps_public_data.events e\n",
    "WHERE 1 = 1\n",
    "    AND recurrencedatestart > '2024-01-01'\n",
    "    AND recurrencedatestart < '2024-01-23'\n",
    "ORDER BY RANDOM()\n",
    "LIMIT 2\n"
   ]
  },
  {
   "cell_type": "code",
   "execution_count": 12,
   "metadata": {
    "vscode": {
     "languageId": "sql"
    }
   },
   "outputs": [
    {
     "data": {
      "text/html": [
       "<div>\n",
       "<style scoped>\n",
       "    .dataframe tbody tr th:only-of-type {\n",
       "        vertical-align: middle;\n",
       "    }\n",
       "\n",
       "    .dataframe tbody tr th {\n",
       "        vertical-align: top;\n",
       "    }\n",
       "\n",
       "    .dataframe thead th {\n",
       "        text-align: right;\n",
       "    }\n",
       "</style>\n",
       "<table border=\"1\" class=\"dataframe\">\n",
       "  <thead>\n",
       "    <tr style=\"text-align: right;\">\n",
       "      <th></th>\n",
       "      <th>title</th>\n",
       "      <th>parkfullname</th>\n",
       "      <th>category</th>\n",
       "      <th>isfree</th>\n",
       "      <th>description</th>\n",
       "    </tr>\n",
       "  </thead>\n",
       "  <tbody>\n",
       "    <tr>\n",
       "      <th>0</th>\n",
       "      <td>Acadian Cultural Center - Louisiana Talks &amp; Tales</td>\n",
       "      <td>Jean Lafitte National Historical Park and Pres...</td>\n",
       "      <td>Regular Event</td>\n",
       "      <td>True</td>\n",
       "      <td>&lt;p&gt;Join a ranger to learn about the history, c...</td>\n",
       "    </tr>\n",
       "    <tr>\n",
       "      <th>1</th>\n",
       "      <td>Afternoon Stroll</td>\n",
       "      <td>Joshua Tree National Park</td>\n",
       "      <td>Regular Event</td>\n",
       "      <td>True</td>\n",
       "      <td>&lt;p&gt;Join a ranger for a 0.4 mile (0.6 km) guide...</td>\n",
       "    </tr>\n",
       "  </tbody>\n",
       "</table>\n",
       "</div>"
      ],
      "text/plain": [
       "                                               title  \\\n",
       "0  Acadian Cultural Center - Louisiana Talks & Tales   \n",
       "1                                   Afternoon Stroll   \n",
       "\n",
       "                                        parkfullname       category  isfree  \\\n",
       "0  Jean Lafitte National Historical Park and Pres...  Regular Event    True   \n",
       "1                          Joshua Tree National Park  Regular Event    True   \n",
       "\n",
       "                                         description  \n",
       "0  <p>Join a ranger to learn about the history, c...  \n",
       "1  <p>Join a ranger for a 0.4 mile (0.6 km) guide...  "
      ]
     },
     "execution_count": 12,
     "metadata": {},
     "output_type": "execute_result"
    }
   ],
   "source": [
    "%%sql\n",
    "SELECT\n",
    "    title,\n",
    "    parkfullname,\n",
    "    category,\n",
    "    isfree,\n",
    "    description\n",
    "FROM nps_public_data.events e\n",
    "WHERE 1 = 1\n",
    "    AND recurrencedatestart BETWEEN '2024-01-01' AND '2024-01-23' -- between is INCLUSIVE \n",
    "ORDER BY RANDOM()\n",
    "LIMIT 2"
   ]
  },
  {
   "cell_type": "code",
   "execution_count": 13,
   "metadata": {
    "vscode": {
     "languageId": "sql"
    }
   },
   "outputs": [
    {
     "data": {
      "text/html": [
       "<div>\n",
       "<style scoped>\n",
       "    .dataframe tbody tr th:only-of-type {\n",
       "        vertical-align: middle;\n",
       "    }\n",
       "\n",
       "    .dataframe tbody tr th {\n",
       "        vertical-align: top;\n",
       "    }\n",
       "\n",
       "    .dataframe thead th {\n",
       "        text-align: right;\n",
       "    }\n",
       "</style>\n",
       "<table border=\"1\" class=\"dataframe\">\n",
       "  <thead>\n",
       "    <tr style=\"text-align: right;\">\n",
       "      <th></th>\n",
       "      <th>f</th>\n",
       "      <th>ct</th>\n",
       "    </tr>\n",
       "  </thead>\n",
       "  <tbody>\n",
       "    <tr>\n",
       "      <th>0</th>\n",
       "      <td>between</td>\n",
       "      <td>3</td>\n",
       "    </tr>\n",
       "    <tr>\n",
       "      <th>1</th>\n",
       "      <td>greater than</td>\n",
       "      <td>1</td>\n",
       "    </tr>\n",
       "  </tbody>\n",
       "</table>\n",
       "</div>"
      ],
      "text/plain": [
       "              f  ct\n",
       "0       between   3\n",
       "1  greater than   1"
      ]
     },
     "execution_count": 13,
     "metadata": {},
     "output_type": "execute_result"
    }
   ],
   "source": [
    "%%sql\n",
    "SELECT\n",
    "    'between' as f,\n",
    "    COUNT(*) as ct\n",
    "FROM nps_public_data.events e\n",
    "WHERE 1 = 1\n",
    "    AND recurrencedatestart BETWEEN '2024-01-01' AND '2024-01-23'\n",
    "GROUP BY f\n",
    "\n",
    "UNION ALL\n",
    "\n",
    "SELECT\n",
    "    'greater than' as f,\n",
    "    COUNT(*) as ct\n",
    "FROM nps_public_data.events e\n",
    "WHERE 1 = 1\n",
    "    AND recurrencedatestart > '2024-01-01'\n",
    "    AND recurrencedatestart < '2024-01-23'\n",
    "GROUP BY f"
   ]
  },
  {
   "cell_type": "code",
   "execution_count": 14,
   "metadata": {
    "vscode": {
     "languageId": "sql"
    }
   },
   "outputs": [
    {
     "data": {
      "text/html": [
       "<div>\n",
       "<style scoped>\n",
       "    .dataframe tbody tr th:only-of-type {\n",
       "        vertical-align: middle;\n",
       "    }\n",
       "\n",
       "    .dataframe tbody tr th {\n",
       "        vertical-align: top;\n",
       "    }\n",
       "\n",
       "    .dataframe thead th {\n",
       "        text-align: right;\n",
       "    }\n",
       "</style>\n",
       "<table border=\"1\" class=\"dataframe\">\n",
       "  <thead>\n",
       "    <tr style=\"text-align: right;\">\n",
       "      <th></th>\n",
       "      <th>title</th>\n",
       "      <th>parkfullname</th>\n",
       "      <th>category</th>\n",
       "      <th>isfree</th>\n",
       "      <th>description</th>\n",
       "    </tr>\n",
       "  </thead>\n",
       "  <tbody>\n",
       "    <tr>\n",
       "      <th>0</th>\n",
       "      <td>Afternoon Stroll</td>\n",
       "      <td>Joshua Tree National Park</td>\n",
       "      <td>Regular Event</td>\n",
       "      <td>True</td>\n",
       "      <td>&lt;p&gt;Join a ranger for a 0.4 mile (0.6 km) guide...</td>\n",
       "    </tr>\n",
       "    <tr>\n",
       "      <th>1</th>\n",
       "      <td>10 am to 4 pm: Village — Ahkima and Marie Hony...</td>\n",
       "      <td>Grand Canyon National Park</td>\n",
       "      <td>Regular Event</td>\n",
       "      <td>True</td>\n",
       "      <td>&lt;p&gt;This week, the Cultural Demonstration Progr...</td>\n",
       "    </tr>\n",
       "  </tbody>\n",
       "</table>\n",
       "</div>"
      ],
      "text/plain": [
       "                                               title  \\\n",
       "0                                   Afternoon Stroll   \n",
       "1  10 am to 4 pm: Village — Ahkima and Marie Hony...   \n",
       "\n",
       "                 parkfullname       category  isfree  \\\n",
       "0   Joshua Tree National Park  Regular Event    True   \n",
       "1  Grand Canyon National Park  Regular Event    True   \n",
       "\n",
       "                                         description  \n",
       "0  <p>Join a ranger for a 0.4 mile (0.6 km) guide...  \n",
       "1  <p>This week, the Cultural Demonstration Progr...  "
      ]
     },
     "execution_count": 14,
     "metadata": {},
     "output_type": "execute_result"
    }
   ],
   "source": [
    "%%sql\n",
    "SELECT\n",
    "    title,\n",
    "    parkfullname,\n",
    "    category,\n",
    "    isfree,\n",
    "    description\n",
    "FROM nps_public_data.events e\n",
    "WHERE 1 = 1\n",
    "    -- Fetch events with dates in January _or_ March\n",
    "    AND (\n",
    "            (recurrencedatestart BETWEEN '2024-01-01' AND '2024-01-31') OR\n",
    "            (recurrencedatestart BETWEEN '2024-03-01' AND '2024-03-31')\n",
    "    ) \n",
    "ORDER BY RANDOM()\n",
    "LIMIT 2"
   ]
  },
  {
   "cell_type": "code",
   "execution_count": 15,
   "metadata": {
    "vscode": {
     "languageId": "sql"
    }
   },
   "outputs": [
    {
     "data": {
      "text/html": [
       "<div>\n",
       "<style scoped>\n",
       "    .dataframe tbody tr th:only-of-type {\n",
       "        vertical-align: middle;\n",
       "    }\n",
       "\n",
       "    .dataframe tbody tr th {\n",
       "        vertical-align: top;\n",
       "    }\n",
       "\n",
       "    .dataframe thead th {\n",
       "        text-align: right;\n",
       "    }\n",
       "</style>\n",
       "<table border=\"1\" class=\"dataframe\">\n",
       "  <thead>\n",
       "    <tr style=\"text-align: right;\">\n",
       "      <th></th>\n",
       "      <th>title</th>\n",
       "      <th>parkfullname</th>\n",
       "      <th>category</th>\n",
       "      <th>isfree</th>\n",
       "      <th>description</th>\n",
       "    </tr>\n",
       "  </thead>\n",
       "  <tbody>\n",
       "    <tr>\n",
       "      <th>0</th>\n",
       "      <td>Afternoon Stroll</td>\n",
       "      <td>Joshua Tree National Park</td>\n",
       "      <td>Regular Event</td>\n",
       "      <td>True</td>\n",
       "      <td>&lt;p&gt;Join a ranger for a 0.4 mile (0.6 km) guide...</td>\n",
       "    </tr>\n",
       "  </tbody>\n",
       "</table>\n",
       "</div>"
      ],
      "text/plain": [
       "              title               parkfullname       category  isfree  \\\n",
       "0  Afternoon Stroll  Joshua Tree National Park  Regular Event    True   \n",
       "\n",
       "                                         description  \n",
       "0  <p>Join a ranger for a 0.4 mile (0.6 km) guide...  "
      ]
     },
     "execution_count": 15,
     "metadata": {},
     "output_type": "execute_result"
    }
   ],
   "source": [
    "%%sql\n",
    "SELECT\n",
    "    title,\n",
    "    parkfullname,\n",
    "    category,\n",
    "    isfree,\n",
    "    description\n",
    "FROM nps_public_data.events e\n",
    "WHERE 1 = 1\n",
    "    AND title LIKE '%Stroll%'\n",
    "LIMIT 5"
   ]
  },
  {
   "cell_type": "code",
   "execution_count": 17,
   "metadata": {
    "vscode": {
     "languageId": "sql"
    }
   },
   "outputs": [
    {
     "data": {
      "text/html": [
       "<div>\n",
       "<style scoped>\n",
       "    .dataframe tbody tr th:only-of-type {\n",
       "        vertical-align: middle;\n",
       "    }\n",
       "\n",
       "    .dataframe tbody tr th {\n",
       "        vertical-align: top;\n",
       "    }\n",
       "\n",
       "    .dataframe thead th {\n",
       "        text-align: right;\n",
       "    }\n",
       "</style>\n",
       "<table border=\"1\" class=\"dataframe\">\n",
       "  <thead>\n",
       "    <tr style=\"text-align: right;\">\n",
       "      <th></th>\n",
       "      <th>title</th>\n",
       "      <th>parkfullname</th>\n",
       "      <th>category</th>\n",
       "      <th>isfree</th>\n",
       "      <th>description</th>\n",
       "    </tr>\n",
       "  </thead>\n",
       "  <tbody>\n",
       "  </tbody>\n",
       "</table>\n",
       "</div>"
      ],
      "text/plain": [
       "Empty DataFrame\n",
       "Columns: [title, parkfullname, category, isfree, description]\n",
       "Index: []"
      ]
     },
     "execution_count": 17,
     "metadata": {},
     "output_type": "execute_result"
    }
   ],
   "source": [
    "%%sql\n",
    "SELECT\n",
    "    title,\n",
    "    parkfullname,\n",
    "    category,\n",
    "    isfree,\n",
    "    description\n",
    "FROM nps_public_data.events e\n",
    "WHERE 1 = 1\n",
    "    AND title LIKE '%hike%' -- LIKE is case sensetive\n",
    "LIMIT 5"
   ]
  },
  {
   "cell_type": "code",
   "execution_count": 18,
   "metadata": {
    "vscode": {
     "languageId": "sql"
    }
   },
   "outputs": [
    {
     "data": {
      "text/html": [
       "<div>\n",
       "<style scoped>\n",
       "    .dataframe tbody tr th:only-of-type {\n",
       "        vertical-align: middle;\n",
       "    }\n",
       "\n",
       "    .dataframe tbody tr th {\n",
       "        vertical-align: top;\n",
       "    }\n",
       "\n",
       "    .dataframe thead th {\n",
       "        text-align: right;\n",
       "    }\n",
       "</style>\n",
       "<table border=\"1\" class=\"dataframe\">\n",
       "  <thead>\n",
       "    <tr style=\"text-align: right;\">\n",
       "      <th></th>\n",
       "      <th>title</th>\n",
       "      <th>parkfullname</th>\n",
       "      <th>category</th>\n",
       "      <th>isfree</th>\n",
       "      <th>description</th>\n",
       "    </tr>\n",
       "  </thead>\n",
       "  <tbody>\n",
       "    <tr>\n",
       "      <th>0</th>\n",
       "      <td>A Hike Through The (Cactus) Forest (East Distr...</td>\n",
       "      <td>Saguaro National Park</td>\n",
       "      <td>Regular Event</td>\n",
       "      <td>True</td>\n",
       "      <td>&lt;p&gt;Let your interest reach new heights and joi...</td>\n",
       "    </tr>\n",
       "  </tbody>\n",
       "</table>\n",
       "</div>"
      ],
      "text/plain": [
       "                                               title           parkfullname  \\\n",
       "0  A Hike Through The (Cactus) Forest (East Distr...  Saguaro National Park   \n",
       "\n",
       "        category  isfree                                        description  \n",
       "0  Regular Event    True  <p>Let your interest reach new heights and joi...  "
      ]
     },
     "execution_count": 18,
     "metadata": {},
     "output_type": "execute_result"
    }
   ],
   "source": [
    "%%sql\n",
    "SELECT\n",
    "    title,\n",
    "    parkfullname,\n",
    "    category,\n",
    "    isfree,\n",
    "    description\n",
    "FROM nps_public_data.events e\n",
    "WHERE 1 = 1\n",
    "    AND title ILIKE '%hike%' -- ILIKE is case insensitive \n",
    "LIMIT 5"
   ]
  },
  {
   "cell_type": "code",
   "execution_count": 19,
   "metadata": {
    "vscode": {
     "languageId": "sql"
    }
   },
   "outputs": [
    {
     "data": {
      "text/html": [
       "<div>\n",
       "<style scoped>\n",
       "    .dataframe tbody tr th:only-of-type {\n",
       "        vertical-align: middle;\n",
       "    }\n",
       "\n",
       "    .dataframe tbody tr th {\n",
       "        vertical-align: top;\n",
       "    }\n",
       "\n",
       "    .dataframe thead th {\n",
       "        text-align: right;\n",
       "    }\n",
       "</style>\n",
       "<table border=\"1\" class=\"dataframe\">\n",
       "  <thead>\n",
       "    <tr style=\"text-align: right;\">\n",
       "      <th></th>\n",
       "      <th>name</th>\n",
       "      <th>managedByOrganization</th>\n",
       "    </tr>\n",
       "  </thead>\n",
       "  <tbody>\n",
       "    <tr>\n",
       "      <th>0</th>\n",
       "      <td>Corn Creek Road Parking Area</td>\n",
       "      <td>Nevada Department of Transportation</td>\n",
       "    </tr>\n",
       "    <tr>\n",
       "      <th>1</th>\n",
       "      <td>Glen Echo Park and Clara Barton National Histo...</td>\n",
       "      <td>National Park Service</td>\n",
       "    </tr>\n",
       "    <tr>\n",
       "      <th>2</th>\n",
       "      <td>Glen Echo Park and Clara Barton National Histo...</td>\n",
       "      <td>National Park Service</td>\n",
       "    </tr>\n",
       "    <tr>\n",
       "      <th>3</th>\n",
       "      <td>Kaloko Fishpond Parking Area</td>\n",
       "      <td>National Park Service</td>\n",
       "    </tr>\n",
       "    <tr>\n",
       "      <th>4</th>\n",
       "      <td>Main Visitor Parking Lot</td>\n",
       "      <td>NPS</td>\n",
       "    </tr>\n",
       "    <tr>\n",
       "      <th>5</th>\n",
       "      <td>Natchez Visitor Center Parking Lot</td>\n",
       "      <td>NPS</td>\n",
       "    </tr>\n",
       "    <tr>\n",
       "      <th>6</th>\n",
       "      <td>Parking lot Remodel and Construction</td>\n",
       "      <td>NPS</td>\n",
       "    </tr>\n",
       "    <tr>\n",
       "      <th>7</th>\n",
       "      <td>Quarai Oversized Vehicle Parking</td>\n",
       "      <td>NPS</td>\n",
       "    </tr>\n",
       "    <tr>\n",
       "      <th>8</th>\n",
       "      <td>Quarry Visitor Center Parking Lot</td>\n",
       "      <td>Dinosaur National Monument</td>\n",
       "    </tr>\n",
       "    <tr>\n",
       "      <th>9</th>\n",
       "      <td>Shark Valley Parking Lot</td>\n",
       "      <td>NPS</td>\n",
       "    </tr>\n",
       "  </tbody>\n",
       "</table>\n",
       "</div>"
      ],
      "text/plain": [
       "                                                name  \\\n",
       "0                       Corn Creek Road Parking Area   \n",
       "1  Glen Echo Park and Clara Barton National Histo...   \n",
       "2  Glen Echo Park and Clara Barton National Histo...   \n",
       "3                       Kaloko Fishpond Parking Area   \n",
       "4                           Main Visitor Parking Lot   \n",
       "5                 Natchez Visitor Center Parking Lot   \n",
       "6               Parking lot Remodel and Construction   \n",
       "7                   Quarai Oversized Vehicle Parking   \n",
       "8                  Quarry Visitor Center Parking Lot   \n",
       "9                           Shark Valley Parking Lot   \n",
       "\n",
       "                 managedByOrganization  \n",
       "0  Nevada Department of Transportation  \n",
       "1                National Park Service  \n",
       "2                National Park Service  \n",
       "3                National Park Service  \n",
       "4                                  NPS  \n",
       "5                                  NPS  \n",
       "6                                  NPS  \n",
       "7                                  NPS  \n",
       "8           Dinosaur National Monument  \n",
       "9                                  NPS  "
      ]
     },
     "execution_count": 19,
     "metadata": {},
     "output_type": "execute_result"
    }
   ],
   "source": [
    "%%sql \n",
    "SELECT \n",
    "    name,\n",
    "    managedByOrganization,\n",
    "FROM nps_public_data.parkinglots\n",
    "LIMIT 10"
   ]
  },
  {
   "cell_type": "code",
   "execution_count": null,
   "metadata": {
    "vscode": {
     "languageId": "sql"
    }
   },
   "outputs": [
    {
     "data": {
      "text/html": [
       "<div>\n",
       "<style scoped>\n",
       "    .dataframe tbody tr th:only-of-type {\n",
       "        vertical-align: middle;\n",
       "    }\n",
       "\n",
       "    .dataframe tbody tr th {\n",
       "        vertical-align: top;\n",
       "    }\n",
       "\n",
       "    .dataframe thead th {\n",
       "        text-align: right;\n",
       "    }\n",
       "</style>\n",
       "<table border=\"1\" class=\"dataframe\">\n",
       "  <thead>\n",
       "    <tr style=\"text-align: right;\">\n",
       "      <th></th>\n",
       "      <th>type</th>\n",
       "      <th>managed_by</th>\n",
       "    </tr>\n",
       "  </thead>\n",
       "  <tbody>\n",
       "    <tr>\n",
       "      <th>0</th>\n",
       "      <td>Parking Lot</td>\n",
       "      <td>Corn Creek Road Parking Area</td>\n",
       "    </tr>\n",
       "    <tr>\n",
       "      <th>1</th>\n",
       "      <td>Parking Lot</td>\n",
       "      <td>Glen Echo Park and Clara Barton National Histo...</td>\n",
       "    </tr>\n",
       "    <tr>\n",
       "      <th>2</th>\n",
       "      <td>Parking Lot</td>\n",
       "      <td>Glen Echo Park and Clara Barton National Histo...</td>\n",
       "    </tr>\n",
       "    <tr>\n",
       "      <th>3</th>\n",
       "      <td>Parking Lot</td>\n",
       "      <td>Kaloko Fishpond Parking Area</td>\n",
       "    </tr>\n",
       "    <tr>\n",
       "      <th>4</th>\n",
       "      <td>Visitor Center</td>\n",
       "      <td>National Park Service</td>\n",
       "    </tr>\n",
       "    <tr>\n",
       "      <th>5</th>\n",
       "      <td>Visitor Center</td>\n",
       "      <td>National Park Service</td>\n",
       "    </tr>\n",
       "    <tr>\n",
       "      <th>6</th>\n",
       "      <td>Parking Lot</td>\n",
       "      <td>National Park Service</td>\n",
       "    </tr>\n",
       "    <tr>\n",
       "      <th>7</th>\n",
       "      <td>Parking Lot</td>\n",
       "      <td>National Park Service</td>\n",
       "    </tr>\n",
       "    <tr>\n",
       "      <th>8</th>\n",
       "      <td>Visitor Center</td>\n",
       "      <td>Quarry Visitor Center Parking Lot</td>\n",
       "    </tr>\n",
       "    <tr>\n",
       "      <th>9</th>\n",
       "      <td>Parking Lot</td>\n",
       "      <td>National Park Service</td>\n",
       "    </tr>\n",
       "  </tbody>\n",
       "</table>\n",
       "</div>"
      ],
      "text/plain": [
       "             type                                         managed_by\n",
       "0     Parking Lot                       Corn Creek Road Parking Area\n",
       "1     Parking Lot  Glen Echo Park and Clara Barton National Histo...\n",
       "2     Parking Lot  Glen Echo Park and Clara Barton National Histo...\n",
       "3     Parking Lot                       Kaloko Fishpond Parking Area\n",
       "4  Visitor Center                              National Park Service\n",
       "5  Visitor Center                              National Park Service\n",
       "6     Parking Lot                              National Park Service\n",
       "7     Parking Lot                              National Park Service\n",
       "8  Visitor Center                  Quarry Visitor Center Parking Lot\n",
       "9     Parking Lot                              National Park Service"
      ]
     },
     "execution_count": 22,
     "metadata": {},
     "output_type": "execute_result"
    }
   ],
   "source": [
    "%%sql \n",
    "SELECT \n",
    "    CASE WHEN name ILIKE '%visitor%' THEN 'Visitor Center'\n",
    "         WHEN name ILIKE '%parking%' THEN 'Parking Lot'\n",
    "         ELSE 'Other'\n",
    "    END as type,\n",
    "    IF(managedByOrganization ILIKE '%NPS%', 'National Park Service', managedByOrganization) as managed_by,\n",
    "\n",
    "FROM nps_public_data.parkinglots\n",
    "LIMIT 10"
   ]
  },
  {
   "cell_type": "code",
   "execution_count": 3,
   "metadata": {
    "vscode": {
     "languageId": "sql"
    }
   },
   "outputs": [
    {
     "data": {
      "text/html": [
       "<div>\n",
       "<style scoped>\n",
       "    .dataframe tbody tr th:only-of-type {\n",
       "        vertical-align: middle;\n",
       "    }\n",
       "\n",
       "    .dataframe tbody tr th {\n",
       "        vertical-align: top;\n",
       "    }\n",
       "\n",
       "    .dataframe thead th {\n",
       "        text-align: right;\n",
       "    }\n",
       "</style>\n",
       "<table border=\"1\" class=\"dataframe\">\n",
       "  <thead>\n",
       "    <tr style=\"text-align: right;\">\n",
       "      <th></th>\n",
       "      <th>fullName</th>\n",
       "      <th>states</th>\n",
       "    </tr>\n",
       "  </thead>\n",
       "  <tbody>\n",
       "    <tr>\n",
       "      <th>0</th>\n",
       "      <td>Federal Hall National Memorial</td>\n",
       "      <td>NY</td>\n",
       "    </tr>\n",
       "    <tr>\n",
       "      <th>1</th>\n",
       "      <td>Lewis &amp; Clark National Historic Trail</td>\n",
       "      <td>IA,ID,IL,IN,KS,KY,MO,MT,NE,ND,OH,OR,PA,SD,WA,WV</td>\n",
       "    </tr>\n",
       "    <tr>\n",
       "      <th>2</th>\n",
       "      <td>National Capital Parks-East</td>\n",
       "      <td>DC</td>\n",
       "    </tr>\n",
       "    <tr>\n",
       "      <th>3</th>\n",
       "      <td>Adams National Historical Park</td>\n",
       "      <td>MA</td>\n",
       "    </tr>\n",
       "    <tr>\n",
       "      <th>4</th>\n",
       "      <td>George Washington Memorial Parkway</td>\n",
       "      <td>DC,MD,VA</td>\n",
       "    </tr>\n",
       "    <tr>\n",
       "      <th>...</th>\n",
       "      <td>...</td>\n",
       "      <td>...</td>\n",
       "    </tr>\n",
       "    <tr>\n",
       "      <th>466</th>\n",
       "      <td>Navajo National Monument</td>\n",
       "      <td>AZ</td>\n",
       "    </tr>\n",
       "    <tr>\n",
       "      <th>467</th>\n",
       "      <td>Cabrillo National Monument</td>\n",
       "      <td>CA</td>\n",
       "    </tr>\n",
       "    <tr>\n",
       "      <th>468</th>\n",
       "      <td>Golden Spike National Historical Park</td>\n",
       "      <td>UT</td>\n",
       "    </tr>\n",
       "    <tr>\n",
       "      <th>469</th>\n",
       "      <td>Fort Union Trading Post National Historic Site</td>\n",
       "      <td>MT,ND</td>\n",
       "    </tr>\n",
       "    <tr>\n",
       "      <th>470</th>\n",
       "      <td>Nicodemus National Historic Site</td>\n",
       "      <td>KS</td>\n",
       "    </tr>\n",
       "  </tbody>\n",
       "</table>\n",
       "<p>471 rows × 2 columns</p>\n",
       "</div>"
      ],
      "text/plain": [
       "                                           fullName  \\\n",
       "0                    Federal Hall National Memorial   \n",
       "1             Lewis & Clark National Historic Trail   \n",
       "2                       National Capital Parks-East   \n",
       "3                    Adams National Historical Park   \n",
       "4                George Washington Memorial Parkway   \n",
       "..                                              ...   \n",
       "466                        Navajo National Monument   \n",
       "467                      Cabrillo National Monument   \n",
       "468           Golden Spike National Historical Park   \n",
       "469  Fort Union Trading Post National Historic Site   \n",
       "470                Nicodemus National Historic Site   \n",
       "\n",
       "                                              states  \n",
       "0                                                 NY  \n",
       "1    IA,ID,IL,IN,KS,KY,MO,MT,NE,ND,OH,OR,PA,SD,WA,WV  \n",
       "2                                                 DC  \n",
       "3                                                 MA  \n",
       "4                                           DC,MD,VA  \n",
       "..                                               ...  \n",
       "466                                               AZ  \n",
       "467                                               CA  \n",
       "468                                               UT  \n",
       "469                                            MT,ND  \n",
       "470                                               KS  \n",
       "\n",
       "[471 rows x 2 columns]"
      ]
     },
     "execution_count": 3,
     "metadata": {},
     "output_type": "execute_result"
    }
   ],
   "source": [
    "%%sql\n",
    "SELECT fullname, states FROM nps_public_data.parks"
   ]
  },
  {
   "cell_type": "code",
   "execution_count": 4,
   "metadata": {
    "vscode": {
     "languageId": "sql"
    }
   },
   "outputs": [
    {
     "data": {
      "text/html": [
       "<div>\n",
       "<style scoped>\n",
       "    .dataframe tbody tr th:only-of-type {\n",
       "        vertical-align: middle;\n",
       "    }\n",
       "\n",
       "    .dataframe tbody tr th {\n",
       "        vertical-align: top;\n",
       "    }\n",
       "\n",
       "    .dataframe thead th {\n",
       "        text-align: right;\n",
       "    }\n",
       "</style>\n",
       "<table border=\"1\" class=\"dataframe\">\n",
       "  <thead>\n",
       "    <tr style=\"text-align: right;\">\n",
       "      <th></th>\n",
       "      <th>fullName</th>\n",
       "      <th>states_string</th>\n",
       "      <th>states_list</th>\n",
       "    </tr>\n",
       "  </thead>\n",
       "  <tbody>\n",
       "    <tr>\n",
       "      <th>0</th>\n",
       "      <td>Cedar Breaks National Monument</td>\n",
       "      <td>UT</td>\n",
       "      <td>[UT]</td>\n",
       "    </tr>\n",
       "    <tr>\n",
       "      <th>1</th>\n",
       "      <td>Arches National Park</td>\n",
       "      <td>UT</td>\n",
       "      <td>[UT]</td>\n",
       "    </tr>\n",
       "    <tr>\n",
       "      <th>2</th>\n",
       "      <td>Bryce Canyon National Park</td>\n",
       "      <td>UT</td>\n",
       "      <td>[UT]</td>\n",
       "    </tr>\n",
       "    <tr>\n",
       "      <th>3</th>\n",
       "      <td>California National Historic Trail</td>\n",
       "      <td>CA,CO,ID,KS,MO,NE,NV,OR,UT,WY</td>\n",
       "      <td>[CA, CO, ID, KS, MO, NE, NV, OR, UT, WY]</td>\n",
       "    </tr>\n",
       "    <tr>\n",
       "      <th>4</th>\n",
       "      <td>Canyonlands National Park</td>\n",
       "      <td>UT</td>\n",
       "      <td>[UT]</td>\n",
       "    </tr>\n",
       "  </tbody>\n",
       "</table>\n",
       "</div>"
      ],
      "text/plain": [
       "                             fullName                  states_string  \\\n",
       "0      Cedar Breaks National Monument                             UT   \n",
       "1                Arches National Park                             UT   \n",
       "2          Bryce Canyon National Park                             UT   \n",
       "3  California National Historic Trail  CA,CO,ID,KS,MO,NE,NV,OR,UT,WY   \n",
       "4           Canyonlands National Park                             UT   \n",
       "\n",
       "                                states_list  \n",
       "0                                      [UT]  \n",
       "1                                      [UT]  \n",
       "2                                      [UT]  \n",
       "3  [CA, CO, ID, KS, MO, NE, NV, OR, UT, WY]  \n",
       "4                                      [UT]  "
      ]
     },
     "execution_count": 4,
     "metadata": {},
     "output_type": "execute_result"
    }
   ],
   "source": [
    "%%sql\n",
    "-- Which parks are fully or partially in Utah?\n",
    "WITH park_states AS (\n",
    "    SELECT \n",
    "        fullname,\n",
    "        states AS states_string, \n",
    "        split(states, ',') ::string[] AS states_list\n",
    "    FROM nps_public_data.parks p\n",
    "    )\n",
    "SELECT \n",
    "    * \n",
    "FROM park_states\n",
    "WHERE list_contains(states_list, 'UT')\n",
    "LIMIT 5"
   ]
  },
  {
   "cell_type": "code",
   "execution_count": 5,
   "metadata": {
    "vscode": {
     "languageId": "sql"
    }
   },
   "outputs": [
    {
     "data": {
      "text/html": [
       "<div>\n",
       "<style scoped>\n",
       "    .dataframe tbody tr th:only-of-type {\n",
       "        vertical-align: middle;\n",
       "    }\n",
       "\n",
       "    .dataframe tbody tr th {\n",
       "        vertical-align: top;\n",
       "    }\n",
       "\n",
       "    .dataframe thead th {\n",
       "        text-align: right;\n",
       "    }\n",
       "</style>\n",
       "<table border=\"1\" class=\"dataframe\">\n",
       "  <thead>\n",
       "    <tr style=\"text-align: right;\">\n",
       "      <th></th>\n",
       "      <th>fullName</th>\n",
       "      <th>states_list</th>\n",
       "    </tr>\n",
       "  </thead>\n",
       "  <tbody>\n",
       "    <tr>\n",
       "      <th>0</th>\n",
       "      <td>California National Historic Trail</td>\n",
       "      <td>[CA, CO, ID, KS, MO, NE, NV, OR, UT, WY]</td>\n",
       "    </tr>\n",
       "    <tr>\n",
       "      <th>1</th>\n",
       "      <td>Mormon Pioneer National Historic Trail</td>\n",
       "      <td>[IL, IA, NE, UT, WY]</td>\n",
       "    </tr>\n",
       "    <tr>\n",
       "      <th>2</th>\n",
       "      <td>Pony Express National Historic Trail</td>\n",
       "      <td>[CA, CO, KS, MO, NE, NV, UT, WY]</td>\n",
       "    </tr>\n",
       "  </tbody>\n",
       "</table>\n",
       "</div>"
      ],
      "text/plain": [
       "                                 fullName  \\\n",
       "0      California National Historic Trail   \n",
       "1  Mormon Pioneer National Historic Trail   \n",
       "2    Pony Express National Historic Trail   \n",
       "\n",
       "                                states_list  \n",
       "0  [CA, CO, ID, KS, MO, NE, NV, OR, UT, WY]  \n",
       "1                      [IL, IA, NE, UT, WY]  \n",
       "2          [CA, CO, KS, MO, NE, NV, UT, WY]  "
      ]
     },
     "execution_count": 5,
     "metadata": {},
     "output_type": "execute_result"
    }
   ],
   "source": [
    "%%sql\n",
    "-- Which parks are both in Utah and Wyoming?\n",
    "WITH park_states AS (\n",
    "    SELECT \n",
    "        fullname,\n",
    "        split(states, ',') ::string[] AS states_list\n",
    "    FROM nps_public_data.parks p\n",
    "    )\n",
    "SELECT \n",
    "    * \n",
    "FROM park_states\n",
    "WHERE list_has_all(states_list, ['UT', 'WY'])"
   ]
  },
  {
   "cell_type": "code",
   "execution_count": 6,
   "metadata": {
    "vscode": {
     "languageId": "sql"
    }
   },
   "outputs": [
    {
     "data": {
      "text/html": [
       "<div>\n",
       "<style scoped>\n",
       "    .dataframe tbody tr th:only-of-type {\n",
       "        vertical-align: middle;\n",
       "    }\n",
       "\n",
       "    .dataframe tbody tr th {\n",
       "        vertical-align: top;\n",
       "    }\n",
       "\n",
       "    .dataframe thead th {\n",
       "        text-align: right;\n",
       "    }\n",
       "</style>\n",
       "<table border=\"1\" class=\"dataframe\">\n",
       "  <thead>\n",
       "    <tr style=\"text-align: right;\">\n",
       "      <th></th>\n",
       "      <th>fullName</th>\n",
       "      <th>states_list</th>\n",
       "    </tr>\n",
       "  </thead>\n",
       "  <tbody>\n",
       "    <tr>\n",
       "      <th>0</th>\n",
       "      <td>Cedar Breaks National Monument</td>\n",
       "      <td>[UT]</td>\n",
       "    </tr>\n",
       "    <tr>\n",
       "      <th>1</th>\n",
       "      <td>Yellowstone National Park</td>\n",
       "      <td>[ID, MT, WY]</td>\n",
       "    </tr>\n",
       "    <tr>\n",
       "      <th>2</th>\n",
       "      <td>Arches National Park</td>\n",
       "      <td>[UT]</td>\n",
       "    </tr>\n",
       "    <tr>\n",
       "      <th>3</th>\n",
       "      <td>Bryce Canyon National Park</td>\n",
       "      <td>[UT]</td>\n",
       "    </tr>\n",
       "    <tr>\n",
       "      <th>4</th>\n",
       "      <td>California National Historic Trail</td>\n",
       "      <td>[CA, CO, ID, KS, MO, NE, NV, OR, UT, WY]</td>\n",
       "    </tr>\n",
       "  </tbody>\n",
       "</table>\n",
       "</div>"
      ],
      "text/plain": [
       "                             fullName  \\\n",
       "0      Cedar Breaks National Monument   \n",
       "1           Yellowstone National Park   \n",
       "2                Arches National Park   \n",
       "3          Bryce Canyon National Park   \n",
       "4  California National Historic Trail   \n",
       "\n",
       "                                states_list  \n",
       "0                                      [UT]  \n",
       "1                              [ID, MT, WY]  \n",
       "2                                      [UT]  \n",
       "3                                      [UT]  \n",
       "4  [CA, CO, ID, KS, MO, NE, NV, OR, UT, WY]  "
      ]
     },
     "execution_count": 6,
     "metadata": {},
     "output_type": "execute_result"
    }
   ],
   "source": [
    "%%sql\n",
    "-- Which parks are in Utah and/or Wyoming?\n",
    "WITH park_states AS (\n",
    "    SELECT \n",
    "        fullname,\n",
    "        split(states, ',') ::string[] AS states_list\n",
    "    FROM nps_public_data.parks p\n",
    "    )\n",
    "SELECT \n",
    "    * \n",
    "FROM park_states\n",
    "WHERE list_has_any(states_list, ['UT', 'WY'])\n",
    "LIMIT 5"
   ]
  },
  {
   "cell_type": "code",
   "execution_count": 7,
   "metadata": {
    "vscode": {
     "languageId": "sql"
    }
   },
   "outputs": [
    {
     "data": {
      "text/html": [
       "<div>\n",
       "<style scoped>\n",
       "    .dataframe tbody tr th:only-of-type {\n",
       "        vertical-align: middle;\n",
       "    }\n",
       "\n",
       "    .dataframe tbody tr th {\n",
       "        vertical-align: top;\n",
       "    }\n",
       "\n",
       "    .dataframe thead th {\n",
       "        text-align: right;\n",
       "    }\n",
       "</style>\n",
       "<table border=\"1\" class=\"dataframe\">\n",
       "  <thead>\n",
       "    <tr style=\"text-align: right;\">\n",
       "      <th></th>\n",
       "      <th>fullName</th>\n",
       "      <th>states</th>\n",
       "      <th>description</th>\n",
       "    </tr>\n",
       "  </thead>\n",
       "  <tbody>\n",
       "    <tr>\n",
       "      <th>0</th>\n",
       "      <td>Arches National Park</td>\n",
       "      <td>UT</td>\n",
       "      <td>Discover a landscape of contrasting colors, la...</td>\n",
       "    </tr>\n",
       "    <tr>\n",
       "      <th>1</th>\n",
       "      <td>Bryce Canyon National Park</td>\n",
       "      <td>UT</td>\n",
       "      <td>Hoodoos (irregular columns of rock) exist on e...</td>\n",
       "    </tr>\n",
       "    <tr>\n",
       "      <th>2</th>\n",
       "      <td>Zion National Park</td>\n",
       "      <td>UT</td>\n",
       "      <td>Follow the paths where people have walked for ...</td>\n",
       "    </tr>\n",
       "  </tbody>\n",
       "</table>\n",
       "</div>"
      ],
      "text/plain": [
       "                     fullName states  \\\n",
       "0        Arches National Park     UT   \n",
       "1  Bryce Canyon National Park     UT   \n",
       "2          Zion National Park     UT   \n",
       "\n",
       "                                         description  \n",
       "0  Discover a landscape of contrasting colors, la...  \n",
       "1  Hoodoos (irregular columns of rock) exist on e...  \n",
       "2  Follow the paths where people have walked for ...  "
      ]
     },
     "execution_count": 7,
     "metadata": {},
     "output_type": "execute_result"
    }
   ],
   "source": [
    "%%sql\n",
    "SELECT \n",
    "    fullname,\n",
    "    states,\n",
    "    description\n",
    "FROM nps_public_data.parks p\n",
    "WHERE name IN ('Arches', 'Bryce Canyon', 'Zion')"
   ]
  },
  {
   "cell_type": "code",
   "execution_count": 8,
   "metadata": {
    "vscode": {
     "languageId": "sql"
    }
   },
   "outputs": [
    {
     "data": {
      "text/html": [
       "<div>\n",
       "<style scoped>\n",
       "    .dataframe tbody tr th:only-of-type {\n",
       "        vertical-align: middle;\n",
       "    }\n",
       "\n",
       "    .dataframe tbody tr th {\n",
       "        vertical-align: top;\n",
       "    }\n",
       "\n",
       "    .dataframe thead th {\n",
       "        text-align: right;\n",
       "    }\n",
       "</style>\n",
       "<table border=\"1\" class=\"dataframe\">\n",
       "  <thead>\n",
       "    <tr style=\"text-align: right;\">\n",
       "      <th></th>\n",
       "      <th>fullName</th>\n",
       "      <th>states</th>\n",
       "    </tr>\n",
       "  </thead>\n",
       "  <tbody>\n",
       "    <tr>\n",
       "      <th>0</th>\n",
       "      <td>Zion National Park</td>\n",
       "      <td>UT</td>\n",
       "    </tr>\n",
       "    <tr>\n",
       "      <th>1</th>\n",
       "      <td>Yukon - Charley Rivers National Preserve</td>\n",
       "      <td>AK</td>\n",
       "    </tr>\n",
       "    <tr>\n",
       "      <th>2</th>\n",
       "      <td>Yucca House National Monument</td>\n",
       "      <td>CO</td>\n",
       "    </tr>\n",
       "    <tr>\n",
       "      <th>3</th>\n",
       "      <td>Yosemite National Park</td>\n",
       "      <td>CA</td>\n",
       "    </tr>\n",
       "    <tr>\n",
       "      <th>4</th>\n",
       "      <td>Yorktown Battlefield Part of Colonial National...</td>\n",
       "      <td>VA</td>\n",
       "    </tr>\n",
       "  </tbody>\n",
       "</table>\n",
       "</div>"
      ],
      "text/plain": [
       "                                            fullName states\n",
       "0                                 Zion National Park     UT\n",
       "1           Yukon - Charley Rivers National Preserve     AK\n",
       "2                      Yucca House National Monument     CO\n",
       "3                             Yosemite National Park     CA\n",
       "4  Yorktown Battlefield Part of Colonial National...     VA"
      ]
     },
     "execution_count": 8,
     "metadata": {},
     "output_type": "execute_result"
    }
   ],
   "source": [
    "%%sql\n",
    "SELECT\n",
    "    fullname,\n",
    "    states\n",
    "FROM nps_public_data.parks\n",
    "ORDER BY fullname DESC\n",
    "LIMIT 5"
   ]
  },
  {
   "cell_type": "code",
   "execution_count": 9,
   "metadata": {
    "vscode": {
     "languageId": "sql"
    }
   },
   "outputs": [
    {
     "data": {
      "text/html": [
       "<div>\n",
       "<style scoped>\n",
       "    .dataframe tbody tr th:only-of-type {\n",
       "        vertical-align: middle;\n",
       "    }\n",
       "\n",
       "    .dataframe tbody tr th {\n",
       "        vertical-align: top;\n",
       "    }\n",
       "\n",
       "    .dataframe thead th {\n",
       "        text-align: right;\n",
       "    }\n",
       "</style>\n",
       "<table border=\"1\" class=\"dataframe\">\n",
       "  <thead>\n",
       "    <tr style=\"text-align: right;\">\n",
       "      <th></th>\n",
       "      <th>states</th>\n",
       "    </tr>\n",
       "  </thead>\n",
       "  <tbody>\n",
       "    <tr>\n",
       "      <th>0</th>\n",
       "      <td>MI</td>\n",
       "    </tr>\n",
       "    <tr>\n",
       "      <th>1</th>\n",
       "      <td>WI</td>\n",
       "    </tr>\n",
       "    <tr>\n",
       "      <th>2</th>\n",
       "      <td>TX</td>\n",
       "    </tr>\n",
       "    <tr>\n",
       "      <th>3</th>\n",
       "      <td>CO</td>\n",
       "    </tr>\n",
       "    <tr>\n",
       "      <th>4</th>\n",
       "      <td>OR</td>\n",
       "    </tr>\n",
       "  </tbody>\n",
       "</table>\n",
       "</div>"
      ],
      "text/plain": [
       "  states\n",
       "0     MI\n",
       "1     WI\n",
       "2     TX\n",
       "3     CO\n",
       "4     OR"
      ]
     },
     "execution_count": 9,
     "metadata": {},
     "output_type": "execute_result"
    }
   ],
   "source": [
    "%%sql\n",
    "SELECT\n",
    "    DISTINCT states\n",
    "FROM nps_public_data.parks\n",
    "LIMIT 5"
   ]
  }
 ],
 "metadata": {
  "kernelspec": {
   "display_name": "Python 3",
   "language": "python",
   "name": "python3"
  },
  "language_info": {
   "codemirror_mode": {
    "name": "ipython",
    "version": 3
   },
   "file_extension": ".py",
   "mimetype": "text/x-python",
   "name": "python",
   "nbconvert_exporter": "python",
   "pygments_lexer": "ipython3",
   "version": "3.12.1"
  }
 },
 "nbformat": 4,
 "nbformat_minor": 2
}
