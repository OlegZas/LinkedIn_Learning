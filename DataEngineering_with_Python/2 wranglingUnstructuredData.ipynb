{
 "cells": [
  {
   "cell_type": "code",
   "execution_count": 1,
   "id": "37125b65-2361-44e2-80e4-18f2b215a5bb",
   "metadata": {},
   "outputs": [
    {
     "name": "stdout",
     "output_type": "stream",
     "text": [
      "There's a new jupysql version available (0.11.0), you're running 0.10.10. To upgrade: pip install jupysql --upgrade\n",
      "Deploy Panel apps for free on Ploomber Cloud! Learn more: https://ploomber.io/s/signup\n"
     ]
    },
    {
     "data": {
      "text/html": [
       "<span style=\"None\">Loading configurations from /workspaces/fundamentals-of-data-transformation-4554074/pyproject.toml.</span>"
      ],
      "text/plain": [
       "Loading configurations from /workspaces/fundamentals-of-data-transformation-4554074/pyproject.toml."
      ]
     },
     "metadata": {},
     "output_type": "display_data"
    },
    {
     "data": {
      "text/html": [
       "<span style=\"None\">Settings changed:</span>"
      ],
      "text/plain": [
       "Settings changed:"
      ]
     },
     "metadata": {},
     "output_type": "display_data"
    },
    {
     "data": {
      "text/html": [
       "\n",
       "<table>\n",
       "    <thead>\n",
       "        <tr>\n",
       "            <th>Config</th>\n",
       "            <th>value</th>\n",
       "        </tr>\n",
       "    </thead>\n",
       "    <tbody>\n",
       "        <tr>\n",
       "            <td>feedback</td>\n",
       "            <td>True</td>\n",
       "        </tr>\n",
       "        <tr>\n",
       "            <td>autopandas</td>\n",
       "            <td>True</td>\n",
       "        </tr>\n",
       "        <tr>\n",
       "            <td>displaylimit</td>\n",
       "            <td>10</td>\n",
       "        </tr>\n",
       "        <tr>\n",
       "            <td>displaycon</td>\n",
       "            <td>False</td>\n",
       "        </tr>\n",
       "    </tbody>\n",
       "</table>"
      ],
      "text/plain": [
       "\n",
       "+--------------+-------+\n",
       "|    Config    | value |\n",
       "+--------------+-------+\n",
       "|   feedback   |  True |\n",
       "|  autopandas  |  True |\n",
       "| displaylimit |   10  |\n",
       "|  displaycon  | False |\n",
       "+--------------+-------+"
      ]
     },
     "metadata": {},
     "output_type": "display_data"
    },
    {
     "data": {
      "text/html": [
       "<div>\n",
       "<style scoped>\n",
       "    .dataframe tbody tr th:only-of-type {\n",
       "        vertical-align: middle;\n",
       "    }\n",
       "\n",
       "    .dataframe tbody tr th {\n",
       "        vertical-align: top;\n",
       "    }\n",
       "\n",
       "    .dataframe thead th {\n",
       "        text-align: right;\n",
       "    }\n",
       "</style>\n",
       "<table border=\"1\" class=\"dataframe\">\n",
       "  <thead>\n",
       "    <tr style=\"text-align: right;\">\n",
       "      <th></th>\n",
       "      <th>Count</th>\n",
       "    </tr>\n",
       "  </thead>\n",
       "  <tbody>\n",
       "    <tr>\n",
       "      <th>0</th>\n",
       "      <td>224</td>\n",
       "    </tr>\n",
       "  </tbody>\n",
       "</table>\n",
       "</div>"
      ],
      "text/plain": [
       "   Count\n",
       "0    224"
      ]
     },
     "execution_count": 1,
     "metadata": {},
     "output_type": "execute_result"
    }
   ],
   "source": [
    "import duckdb\n",
    "\n",
    "# Load SQL extension\n",
    "%load_ext sql\n",
    "\n",
    "# Initialize 🦆 DuckDB connection\n",
    "conn = duckdb.connect()\n",
    "\n",
    "# Import database\n",
    "%sql conn --alias duckdb\n",
    "%sql IMPORT DATABASE '../../data/nps';"
   ]
  },
  {
   "cell_type": "markdown",
   "id": "7137f423",
   "metadata": {},
   "source": [
    "This dataset contains structured and semi-structured data."
   ]
  },
  {
   "cell_type": "code",
   "execution_count": 2,
   "id": "1e4905ec-b2d8-4db5-9a20-db4edda23bef",
   "metadata": {
    "vscode": {
     "languageId": "sql"
    }
   },
   "outputs": [
    {
     "data": {
      "text/html": [
       "<div>\n",
       "<style scoped>\n",
       "    .dataframe tbody tr th:only-of-type {\n",
       "        vertical-align: middle;\n",
       "    }\n",
       "\n",
       "    .dataframe tbody tr th {\n",
       "        vertical-align: top;\n",
       "    }\n",
       "\n",
       "    .dataframe thead th {\n",
       "        text-align: right;\n",
       "    }\n",
       "</style>\n",
       "<table border=\"1\" class=\"dataframe\">\n",
       "  <thead>\n",
       "    <tr style=\"text-align: right;\">\n",
       "      <th></th>\n",
       "      <th>relevanceScore</th>\n",
       "      <th>designation</th>\n",
       "      <th>weatherInfo</th>\n",
       "      <th>addresses</th>\n",
       "      <th>operatingHours</th>\n",
       "      <th>entrancePasses</th>\n",
       "      <th>name</th>\n",
       "      <th>description</th>\n",
       "      <th>directionsUrl</th>\n",
       "      <th>fees</th>\n",
       "      <th>...</th>\n",
       "      <th>activities</th>\n",
       "      <th>url</th>\n",
       "      <th>longitude</th>\n",
       "      <th>id</th>\n",
       "      <th>images</th>\n",
       "      <th>directionsInfo</th>\n",
       "      <th>fullName</th>\n",
       "      <th>parkCode</th>\n",
       "      <th>latLong</th>\n",
       "      <th>latitude</th>\n",
       "    </tr>\n",
       "  </thead>\n",
       "  <tbody>\n",
       "    <tr>\n",
       "      <th>0</th>\n",
       "      <td>1</td>\n",
       "      <td>National Memorial</td>\n",
       "      <td>http://forecast.weather.gov/MapClick.php?CityN...</td>\n",
       "      <td>[{'type': 'Physical', 'line2': '', 'line1': '1...</td>\n",
       "      <td>[{'name': 'Hours of Operation', 'standardHours...</td>\n",
       "      <td>[]</td>\n",
       "      <td>Federal Hall</td>\n",
       "      <td>Here on Wall Street, George Washington took th...</td>\n",
       "      <td>http://www.nps.gov/feha/planyourvisit/directio...</td>\n",
       "      <td>[]</td>\n",
       "      <td>...</td>\n",
       "      <td>[{'name': 'Arts and Culture', 'id': '09DF0950-...</td>\n",
       "      <td>https://www.nps.gov/feha/index.htm</td>\n",
       "      <td>-74.010256</td>\n",
       "      <td>2337D255-2D32-4997-957A-D461EEA03AF8</td>\n",
       "      <td>[{'url': 'https://www.nps.gov/common/uploads/s...</td>\n",
       "      <td>The main entrance of Federal Hall is located a...</td>\n",
       "      <td>Federal Hall National Memorial</td>\n",
       "      <td>feha</td>\n",
       "      <td>lat:40.70731192, long:-74.01025636</td>\n",
       "      <td>40.707312</td>\n",
       "    </tr>\n",
       "    <tr>\n",
       "      <th>1</th>\n",
       "      <td>1</td>\n",
       "      <td>National Historic Trail</td>\n",
       "      <td>In winter, watch for ice on trails and sidewal...</td>\n",
       "      <td>[{'type': 'Physical', 'line2': '', 'line1': '6...</td>\n",
       "      <td>[{'name': 'Visitor Center Hours', 'standardHou...</td>\n",
       "      <td>[]</td>\n",
       "      <td>Lewis &amp; Clark</td>\n",
       "      <td>The Lewis and Clark National Historic Trail wi...</td>\n",
       "      <td>https://www.nps.gov/lecl/</td>\n",
       "      <td>[]</td>\n",
       "      <td>...</td>\n",
       "      <td>[{'name': 'Auto and ATV', 'id': '5F723BAD-7359...</td>\n",
       "      <td>https://www.nps.gov/lecl/index.htm</td>\n",
       "      <td>-95.924515</td>\n",
       "      <td>5D443C5F-19A0-4A06-9CE4-30534A3DD81A</td>\n",
       "      <td>[{'url': 'https://www.nps.gov/common/uploads/s...</td>\n",
       "      <td>Lewis &amp; Clark National Historic Trail Headquar...</td>\n",
       "      <td>Lewis &amp; Clark National Historic Trail</td>\n",
       "      <td>lecl</td>\n",
       "      <td>lat:41.2646141052, long:-95.9245147705</td>\n",
       "      <td>41.264614</td>\n",
       "    </tr>\n",
       "    <tr>\n",
       "      <th>2</th>\n",
       "      <td>1</td>\n",
       "      <td></td>\n",
       "      <td>Summers are generally hot and humid, with dayt...</td>\n",
       "      <td>[{'type': 'Physical', 'line2': '', 'line1': '1...</td>\n",
       "      <td>[{'name': 'National Capital Parks-East Headqua...</td>\n",
       "      <td>[]</td>\n",
       "      <td>National Capital Parks-East</td>\n",
       "      <td>Welcome to National Capital Parks-East. We inv...</td>\n",
       "      <td>http://www.nps.gov/nace/planyourvisit/directio...</td>\n",
       "      <td>[]</td>\n",
       "      <td>...</td>\n",
       "      <td>[{'name': 'Biking', 'id': '7CE6E935-F839-4FEC-...</td>\n",
       "      <td>https://www.nps.gov/nace/index.htm</td>\n",
       "      <td>-76.994000</td>\n",
       "      <td>BA3C1A1D-AA6A-49EB-9237-0222CEEE2670</td>\n",
       "      <td>[{'url': 'https://www.nps.gov/common/uploads/s...</td>\n",
       "      <td>DC295 South to the Exit for I-694/I-395/Capito...</td>\n",
       "      <td>National Capital Parks-East</td>\n",
       "      <td>nace</td>\n",
       "      <td>lat:38.8659, long:-76.994</td>\n",
       "      <td>38.865900</td>\n",
       "    </tr>\n",
       "  </tbody>\n",
       "</table>\n",
       "<p>3 rows × 24 columns</p>\n",
       "</div>"
      ],
      "text/plain": [
       "   relevanceScore              designation  \\\n",
       "0               1        National Memorial   \n",
       "1               1  National Historic Trail   \n",
       "2               1                            \n",
       "\n",
       "                                         weatherInfo  \\\n",
       "0  http://forecast.weather.gov/MapClick.php?CityN...   \n",
       "1  In winter, watch for ice on trails and sidewal...   \n",
       "2  Summers are generally hot and humid, with dayt...   \n",
       "\n",
       "                                           addresses  \\\n",
       "0  [{'type': 'Physical', 'line2': '', 'line1': '1...   \n",
       "1  [{'type': 'Physical', 'line2': '', 'line1': '6...   \n",
       "2  [{'type': 'Physical', 'line2': '', 'line1': '1...   \n",
       "\n",
       "                                      operatingHours entrancePasses  \\\n",
       "0  [{'name': 'Hours of Operation', 'standardHours...             []   \n",
       "1  [{'name': 'Visitor Center Hours', 'standardHou...             []   \n",
       "2  [{'name': 'National Capital Parks-East Headqua...             []   \n",
       "\n",
       "                          name  \\\n",
       "0                 Federal Hall   \n",
       "1                Lewis & Clark   \n",
       "2  National Capital Parks-East   \n",
       "\n",
       "                                         description  \\\n",
       "0  Here on Wall Street, George Washington took th...   \n",
       "1  The Lewis and Clark National Historic Trail wi...   \n",
       "2  Welcome to National Capital Parks-East. We inv...   \n",
       "\n",
       "                                       directionsUrl fees  ...  \\\n",
       "0  http://www.nps.gov/feha/planyourvisit/directio...   []  ...   \n",
       "1                          https://www.nps.gov/lecl/   []  ...   \n",
       "2  http://www.nps.gov/nace/planyourvisit/directio...   []  ...   \n",
       "\n",
       "                                          activities  \\\n",
       "0  [{'name': 'Arts and Culture', 'id': '09DF0950-...   \n",
       "1  [{'name': 'Auto and ATV', 'id': '5F723BAD-7359...   \n",
       "2  [{'name': 'Biking', 'id': '7CE6E935-F839-4FEC-...   \n",
       "\n",
       "                                  url  longitude  \\\n",
       "0  https://www.nps.gov/feha/index.htm -74.010256   \n",
       "1  https://www.nps.gov/lecl/index.htm -95.924515   \n",
       "2  https://www.nps.gov/nace/index.htm -76.994000   \n",
       "\n",
       "                                     id  \\\n",
       "0  2337D255-2D32-4997-957A-D461EEA03AF8   \n",
       "1  5D443C5F-19A0-4A06-9CE4-30534A3DD81A   \n",
       "2  BA3C1A1D-AA6A-49EB-9237-0222CEEE2670   \n",
       "\n",
       "                                              images  \\\n",
       "0  [{'url': 'https://www.nps.gov/common/uploads/s...   \n",
       "1  [{'url': 'https://www.nps.gov/common/uploads/s...   \n",
       "2  [{'url': 'https://www.nps.gov/common/uploads/s...   \n",
       "\n",
       "                                      directionsInfo  \\\n",
       "0  The main entrance of Federal Hall is located a...   \n",
       "1  Lewis & Clark National Historic Trail Headquar...   \n",
       "2  DC295 South to the Exit for I-694/I-395/Capito...   \n",
       "\n",
       "                                fullName parkCode  \\\n",
       "0         Federal Hall National Memorial     feha   \n",
       "1  Lewis & Clark National Historic Trail     lecl   \n",
       "2            National Capital Parks-East     nace   \n",
       "\n",
       "                                  latLong   latitude  \n",
       "0      lat:40.70731192, long:-74.01025636  40.707312  \n",
       "1  lat:41.2646141052, long:-95.9245147705  41.264614  \n",
       "2               lat:38.8659, long:-76.994  38.865900  \n",
       "\n",
       "[3 rows x 24 columns]"
      ]
     },
     "execution_count": 2,
     "metadata": {},
     "output_type": "execute_result"
    }
   ],
   "source": [
    "%%sql\n",
    "SELECT * FROM nps_public_data.parks LIMIT 3"
   ]
  },
  {
   "cell_type": "markdown",
   "id": "1e4c4260",
   "metadata": {},
   "source": [
    "A STRUCT in SQL (used in databases like BigQuery) is a nested data type that allows you to store multiple related values inside a single column. It’s similar to a JSON object, but it has a fixed schema (predefined fields and data types)."
   ]
  },
  {
   "cell_type": "code",
   "execution_count": 4,
   "id": "fd969db8-3815-42af-aa81-6598b14da5f8",
   "metadata": {
    "vscode": {
     "languageId": "sql"
    }
   },
   "outputs": [
    {
     "data": {
      "text/html": [
       "<div>\n",
       "<style scoped>\n",
       "    .dataframe tbody tr th:only-of-type {\n",
       "        vertical-align: middle;\n",
       "    }\n",
       "\n",
       "    .dataframe tbody tr th {\n",
       "        vertical-align: top;\n",
       "    }\n",
       "\n",
       "    .dataframe thead th {\n",
       "        text-align: right;\n",
       "    }\n",
       "</style>\n",
       "<table border=\"1\" class=\"dataframe\">\n",
       "  <thead>\n",
       "    <tr style=\"text-align: right;\">\n",
       "      <th></th>\n",
       "      <th>name</th>\n",
       "      <th>operating_hours</th>\n",
       "    </tr>\n",
       "  </thead>\n",
       "  <tbody>\n",
       "    <tr>\n",
       "      <th>0</th>\n",
       "      <td>Federal Hall</td>\n",
       "      <td>[{'name': 'Hours of Operation', 'standardHours...</td>\n",
       "    </tr>\n",
       "  </tbody>\n",
       "</table>\n",
       "</div>"
      ],
      "text/plain": [
       "           name                                    operating_hours\n",
       "0  Federal Hall  [{'name': 'Hours of Operation', 'standardHours..."
      ]
     },
     "execution_count": 4,
     "metadata": {},
     "output_type": "execute_result"
    }
   ],
   "source": [
    "%%sql\n",
    "-- Callout: query structuring, LIMIT statements\n",
    "SELECT \n",
    "    name, \n",
    "    operatingHours as operating_hours\n",
    "FROM nps_public_data.parks \n",
    "LIMIT 1"
   ]
  },
  {
   "cell_type": "markdown",
   "id": "09db876d",
   "metadata": {},
   "source": [
    "What if we want to create an `operatingHours` table? We can unpack `json` using `UNNEST`. Notice what we're doing here: there are two operations happening, but we're splitting them up! That's called a CTE (common table expression). It's a way of separating aggregates or other operations.\n",
    "\n",
    "Next, we're using `UNNEST` to explode the `STRUCT` or `json` data. DuckDB let's us use `recursive := true` to burrow down and get _every_ level of the `json`... Pretty neat!"
   ]
  },
  {
   "cell_type": "markdown",
   "id": "a4eef755",
   "metadata": {},
   "source": []
  },
  {
   "cell_type": "code",
   "execution_count": 5,
   "id": "58e31110",
   "metadata": {
    "vscode": {
     "languageId": "sql"
    }
   },
   "outputs": [
    {
     "data": {
      "text/html": [
       "<div>\n",
       "<style scoped>\n",
       "    .dataframe tbody tr th:only-of-type {\n",
       "        vertical-align: middle;\n",
       "    }\n",
       "\n",
       "    .dataframe tbody tr th {\n",
       "        vertical-align: top;\n",
       "    }\n",
       "\n",
       "    .dataframe thead th {\n",
       "        text-align: right;\n",
       "    }\n",
       "</style>\n",
       "<table border=\"1\" class=\"dataframe\">\n",
       "  <thead>\n",
       "    <tr style=\"text-align: right;\">\n",
       "      <th></th>\n",
       "      <th>park_name</th>\n",
       "      <th>park_id</th>\n",
       "      <th>friday</th>\n",
       "      <th>sunday</th>\n",
       "      <th>thursday</th>\n",
       "      <th>tuesday</th>\n",
       "      <th>saturday</th>\n",
       "      <th>monday</th>\n",
       "      <th>wednesday</th>\n",
       "      <th>description</th>\n",
       "      <th>category</th>\n",
       "    </tr>\n",
       "  </thead>\n",
       "  <tbody>\n",
       "    <tr>\n",
       "      <th>0</th>\n",
       "      <td>Federal Hall</td>\n",
       "      <td>2337D255-2D32-4997-957A-D461EEA03AF8</td>\n",
       "      <td>10:00AM - 5:00PM</td>\n",
       "      <td>Closed</td>\n",
       "      <td>10:00AM - 5:00PM</td>\n",
       "      <td>10:00AM - 5:00PM</td>\n",
       "      <td>Closed</td>\n",
       "      <td>10:00AM - 5:00PM</td>\n",
       "      <td>10:00AM - 5:00PM</td>\n",
       "      <td>Federal Hall is Open.</td>\n",
       "      <td>Hours of Operation</td>\n",
       "    </tr>\n",
       "    <tr>\n",
       "      <th>1</th>\n",
       "      <td>Lewis &amp; Clark</td>\n",
       "      <td>5D443C5F-19A0-4A06-9CE4-30534A3DD81A</td>\n",
       "      <td>8:30AM - 4:30PM</td>\n",
       "      <td>Closed</td>\n",
       "      <td>8:30AM - 4:30PM</td>\n",
       "      <td>8:30AM - 4:30PM</td>\n",
       "      <td>Closed</td>\n",
       "      <td>8:30AM - 4:30PM</td>\n",
       "      <td>8:30AM - 4:30PM</td>\n",
       "      <td>Lewis and Clark National Historic Trail Visito...</td>\n",
       "      <td>Visitor Center Hours</td>\n",
       "    </tr>\n",
       "  </tbody>\n",
       "</table>\n",
       "</div>"
      ],
      "text/plain": [
       "       park_name                               park_id            friday  \\\n",
       "0   Federal Hall  2337D255-2D32-4997-957A-D461EEA03AF8  10:00AM - 5:00PM   \n",
       "1  Lewis & Clark  5D443C5F-19A0-4A06-9CE4-30534A3DD81A   8:30AM - 4:30PM   \n",
       "\n",
       "   sunday          thursday           tuesday saturday            monday  \\\n",
       "0  Closed  10:00AM - 5:00PM  10:00AM - 5:00PM   Closed  10:00AM - 5:00PM   \n",
       "1  Closed   8:30AM - 4:30PM   8:30AM - 4:30PM   Closed   8:30AM - 4:30PM   \n",
       "\n",
       "          wednesday                                        description  \\\n",
       "0  10:00AM - 5:00PM                              Federal Hall is Open.   \n",
       "1   8:30AM - 4:30PM  Lewis and Clark National Historic Trail Visito...   \n",
       "\n",
       "               category  \n",
       "0    Hours of Operation  \n",
       "1  Visitor Center Hours  "
      ]
     },
     "execution_count": 5,
     "metadata": {},
     "output_type": "execute_result"
    }
   ],
   "source": [
    "%%sql\n",
    "-- Callout: CTEs, UNNEST\n",
    "WITH park_hours AS (\n",
    "    SELECT \n",
    "        name as park_name, \n",
    "        id as park_id, \n",
    "        UNNEST(operatingHours, recursive := true)\n",
    "    FROM nps_public_data.parks\n",
    ")\n",
    "SELECT \n",
    "    * EXCLUDE (exceptions, name),\n",
    "    name as category\n",
    "FROM park_hours\n",
    "LIMIT 2"
   ]
  },
  {
   "cell_type": "markdown",
   "id": "c510ab02",
   "metadata": {},
   "source": [
    "This query creates or replaces the nps_public_data.park_hours table by transforming data from nps_public_data.parks. It first extracts and flattens the operatingHours field using UNNEST(..., recursive := true), ensuring all nested elements are expanded into separate rows. Then, it renames name to park_name and id to park_id. In the final selection, it excludes the exceptions and name columns while renaming name to category. The result is stored as a new table with a structured format for easier querying."
   ]
  },
  {
   "cell_type": "code",
   "execution_count": null,
   "id": "c7b3ae82",
   "metadata": {
    "vscode": {
     "languageId": "sql"
    }
   },
   "outputs": [
    {
     "data": {
      "text/html": [
       "<div>\n",
       "<style scoped>\n",
       "    .dataframe tbody tr th:only-of-type {\n",
       "        vertical-align: middle;\n",
       "    }\n",
       "\n",
       "    .dataframe tbody tr th {\n",
       "        vertical-align: top;\n",
       "    }\n",
       "\n",
       "    .dataframe thead th {\n",
       "        text-align: right;\n",
       "    }\n",
       "</style>\n",
       "<table border=\"1\" class=\"dataframe\">\n",
       "  <thead>\n",
       "    <tr style=\"text-align: right;\">\n",
       "      <th></th>\n",
       "      <th>Count</th>\n",
       "    </tr>\n",
       "  </thead>\n",
       "  <tbody>\n",
       "    <tr>\n",
       "      <th>0</th>\n",
       "      <td>667</td>\n",
       "    </tr>\n",
       "  </tbody>\n",
       "</table>\n",
       "</div>"
      ],
      "text/plain": [
       "   Count\n",
       "0    667"
      ]
     },
     "execution_count": 6,
     "metadata": {},
     "output_type": "execute_result"
    }
   ],
   "source": [
    "%%sql\n",
    "-- Callout: column renaming, EXCLUDE\n",
    "CREATE OR REPLACE TABLE nps_public_data.park_hours AS (\n",
    "    WITH park_hours AS (\n",
    "        SELECT \n",
    "            name as park_name, \n",
    "            id as park_id, \n",
    "            -- https://duckdb.org/docs/sql/query_syntax/unnest.html\n",
    "            UNNEST(operatingHours, recursive := true) -- recursive flattens that json entirely on every level, not just the first []\n",
    "        FROM nps_public_data.parks\n",
    "    )\n",
    "    SELECT \n",
    "        * EXCLUDE (exceptions, name),\n",
    "        name as category\n",
    "    FROM park_hours \n",
    ")"
   ]
  },
  {
   "cell_type": "code",
   "execution_count": 7,
   "id": "33fb4f9c",
   "metadata": {
    "vscode": {
     "languageId": "sql"
    }
   },
   "outputs": [
    {
     "data": {
      "text/html": [
       "<div>\n",
       "<style scoped>\n",
       "    .dataframe tbody tr th:only-of-type {\n",
       "        vertical-align: middle;\n",
       "    }\n",
       "\n",
       "    .dataframe tbody tr th {\n",
       "        vertical-align: top;\n",
       "    }\n",
       "\n",
       "    .dataframe thead th {\n",
       "        text-align: right;\n",
       "    }\n",
       "</style>\n",
       "<table border=\"1\" class=\"dataframe\">\n",
       "  <thead>\n",
       "    <tr style=\"text-align: right;\">\n",
       "      <th></th>\n",
       "      <th>name</th>\n",
       "      <th>thursday</th>\n",
       "    </tr>\n",
       "  </thead>\n",
       "  <tbody>\n",
       "    <tr>\n",
       "      <th>0</th>\n",
       "      <td>Federal Hall</td>\n",
       "      <td>10:00AM - 5:00PM</td>\n",
       "    </tr>\n",
       "    <tr>\n",
       "      <th>1</th>\n",
       "      <td>Theodore Roosevelt Birthplace</td>\n",
       "      <td>10:00AM - 4:00PM</td>\n",
       "    </tr>\n",
       "    <tr>\n",
       "      <th>2</th>\n",
       "      <td>Tumacácori</td>\n",
       "      <td>9:00AM - 5:00PM</td>\n",
       "    </tr>\n",
       "    <tr>\n",
       "      <th>3</th>\n",
       "      <td>Wright Brothers</td>\n",
       "      <td>9:00AM - 5:00PM</td>\n",
       "    </tr>\n",
       "  </tbody>\n",
       "</table>\n",
       "</div>"
      ],
      "text/plain": [
       "                            name          thursday\n",
       "0                   Federal Hall  10:00AM - 5:00PM\n",
       "1  Theodore Roosevelt Birthplace  10:00AM - 4:00PM\n",
       "2                     Tumacácori   9:00AM - 5:00PM\n",
       "3                Wright Brothers   9:00AM - 5:00PM"
      ]
     },
     "execution_count": 7,
     "metadata": {},
     "output_type": "execute_result"
    }
   ],
   "source": [
    "%%sql\n",
    "-- Callout: WHERE clause\n",
    "SELECT\n",
    "    p.name,\n",
    "    h.thursday\n",
    "FROM nps_public_data.park_hours h\n",
    "LEFT JOIN nps_public_data.parks p\n",
    "    ON h.park_id = p.id\n",
    "WHERE h.category = 'Hours of Operation'\n",
    "LIMIT 5"
   ]
  },
  {
   "cell_type": "code",
   "execution_count": 8,
   "id": "8c88fe7f",
   "metadata": {},
   "outputs": [
    {
     "data": {
      "text/html": [
       "<div>\n",
       "<style scoped>\n",
       "    .dataframe tbody tr th:only-of-type {\n",
       "        vertical-align: middle;\n",
       "    }\n",
       "\n",
       "    .dataframe tbody tr th {\n",
       "        vertical-align: top;\n",
       "    }\n",
       "\n",
       "    .dataframe thead th {\n",
       "        text-align: right;\n",
       "    }\n",
       "</style>\n",
       "<table border=\"1\" class=\"dataframe\">\n",
       "  <thead>\n",
       "    <tr style=\"text-align: right;\">\n",
       "      <th></th>\n",
       "      <th>thursday</th>\n",
       "    </tr>\n",
       "  </thead>\n",
       "  <tbody>\n",
       "    <tr>\n",
       "      <th>0</th>\n",
       "      <td>unknown</td>\n",
       "    </tr>\n",
       "    <tr>\n",
       "      <th>1</th>\n",
       "      <td>Sunrise to Sunset</td>\n",
       "    </tr>\n",
       "    <tr>\n",
       "      <th>2</th>\n",
       "      <td>Opens at 6:00AM</td>\n",
       "    </tr>\n",
       "    <tr>\n",
       "      <th>3</th>\n",
       "      <td>Opens at 5:00AM</td>\n",
       "    </tr>\n",
       "    <tr>\n",
       "      <th>4</th>\n",
       "      <td>Closes at 12:00PM</td>\n",
       "    </tr>\n",
       "    <tr>\n",
       "      <th>5</th>\n",
       "      <td>Closed</td>\n",
       "    </tr>\n",
       "    <tr>\n",
       "      <th>6</th>\n",
       "      <td>All Day</td>\n",
       "    </tr>\n",
       "    <tr>\n",
       "      <th>7</th>\n",
       "      <td>9:30AM - 5:00PM</td>\n",
       "    </tr>\n",
       "    <tr>\n",
       "      <th>8</th>\n",
       "      <td>9:30AM - 4:30PM</td>\n",
       "    </tr>\n",
       "    <tr>\n",
       "      <th>9</th>\n",
       "      <td>9:30AM - 4:00PM</td>\n",
       "    </tr>\n",
       "  </tbody>\n",
       "</table>\n",
       "</div>"
      ],
      "text/plain": [
       "            thursday\n",
       "0            unknown\n",
       "1  Sunrise to Sunset\n",
       "2    Opens at 6:00AM\n",
       "3    Opens at 5:00AM\n",
       "4  Closes at 12:00PM\n",
       "5             Closed\n",
       "6            All Day\n",
       "7    9:30AM - 5:00PM\n",
       "8    9:30AM - 4:30PM\n",
       "9    9:30AM - 4:00PM"
      ]
     },
     "execution_count": 8,
     "metadata": {},
     "output_type": "execute_result"
    }
   ],
   "source": [
    "%%sql \n",
    "# Callout: DISTINCT, Order, LIMIT\n",
    "SELECT \n",
    "    DISTINCT(thursday) \n",
    "FROM nps_public_data.park_hours \n",
    "ORDER BY 1 DESC \n",
    "LIMIT 10;"
   ]
  },
  {
   "cell_type": "code",
   "execution_count": 9,
   "id": "1c0f3c4a",
   "metadata": {
    "vscode": {
     "languageId": "sql"
    }
   },
   "outputs": [
    {
     "data": {
      "text/html": [
       "<div>\n",
       "<style scoped>\n",
       "    .dataframe tbody tr th:only-of-type {\n",
       "        vertical-align: middle;\n",
       "    }\n",
       "\n",
       "    .dataframe tbody tr th {\n",
       "        vertical-align: top;\n",
       "    }\n",
       "\n",
       "    .dataframe thead th {\n",
       "        text-align: right;\n",
       "    }\n",
       "</style>\n",
       "<table border=\"1\" class=\"dataframe\">\n",
       "  <thead>\n",
       "    <tr style=\"text-align: right;\">\n",
       "      <th></th>\n",
       "      <th>Count</th>\n",
       "    </tr>\n",
       "  </thead>\n",
       "  <tbody>\n",
       "    <tr>\n",
       "      <th>0</th>\n",
       "      <td>667</td>\n",
       "    </tr>\n",
       "  </tbody>\n",
       "</table>\n",
       "</div>"
      ],
      "text/plain": [
       "   Count\n",
       "0    667"
      ]
     },
     "execution_count": 9,
     "metadata": {},
     "output_type": "execute_result"
    }
   ],
   "source": [
    "%%sql\n",
    "CREATE OR REPLACE TABLE nps_public_data.park_hours AS (\n",
    "    WITH park_hours AS (\n",
    "        SELECT \n",
    "            name as park_name, \n",
    "            id as park_id, \n",
    "            -- https://duckdb.org/docs/sql/query_syntax/unnest.html\n",
    "            UNNEST(operatingHours, recursive := true)\n",
    "        FROM nps_public_data.parks\n",
    "    )\n",
    "    SELECT \n",
    "        park_name,\n",
    "        park_id,\n",
    "        description,\n",
    "        name as category,\n",
    "        CASE monday WHEN 'unknown' THEN 'Closed' ELSE monday END as monday_hours,\n",
    "        CASE tuesday WHEN 'unknown' THEN 'Closed' ELSE tuesday END as tuesday_hours,\n",
    "        CASE wednesday WHEN 'unknown' THEN 'Closed' ELSE wednesday END as wednesday_hours,\n",
    "        CASE thursday WHEN 'unknown' THEN 'Closed' ELSE thursday END as thursday_hours,\n",
    "        CASE friday WHEN 'unknown' THEN 'Closed' ELSE friday END as friday_hours,\n",
    "        CASE saturday WHEN 'unknown' THEN 'Closed' ELSE saturday END as saturday_hours,\n",
    "        CASE sunday WHEN 'unknown' THEN 'Closed' ELSE sunday END as sunday_hours,\n",
    "        CASE WHEN \n",
    "            monday != 'Closed' AND\n",
    "            tuesday != 'Closed' AND\n",
    "            wednesday != 'Closed' AND\n",
    "            thursday != 'Closed' AND\n",
    "            friday != 'Closed' AND\n",
    "            saturday != 'Closed' AND\n",
    "            sunday != 'Closed'\n",
    "        THEN TRUE ELSE FALSE END as open_seven_days_a_week\n",
    "    FROM park_hours \n",
    ")"
   ]
  },
  {
   "cell_type": "code",
   "execution_count": null,
   "id": "0d0825e1",
   "metadata": {
    "vscode": {
     "languageId": "sql"
    }
   },
   "outputs": [],
   "source": [
    "%%sql\n",
    "SELECT * FROM nps_public_data.park_hours WHERE open_seven_days_a_week LIMIT 1"
   ]
  },
  {
   "cell_type": "code",
   "execution_count": 10,
   "id": "36952fa7",
   "metadata": {
    "vscode": {
     "languageId": "sql"
    }
   },
   "outputs": [
    {
     "data": {
      "text/html": [
       "<div>\n",
       "<style scoped>\n",
       "    .dataframe tbody tr th:only-of-type {\n",
       "        vertical-align: middle;\n",
       "    }\n",
       "\n",
       "    .dataframe tbody tr th {\n",
       "        vertical-align: top;\n",
       "    }\n",
       "\n",
       "    .dataframe thead th {\n",
       "        text-align: right;\n",
       "    }\n",
       "</style>\n",
       "<table border=\"1\" class=\"dataframe\">\n",
       "  <thead>\n",
       "    <tr style=\"text-align: right;\">\n",
       "      <th></th>\n",
       "      <th>name</th>\n",
       "      <th>category</th>\n",
       "      <th>thursday_hours</th>\n",
       "      <th>closed_open</th>\n",
       "      <th>is_closed</th>\n",
       "    </tr>\n",
       "  </thead>\n",
       "  <tbody>\n",
       "    <tr>\n",
       "      <th>0</th>\n",
       "      <td>Saratoga</td>\n",
       "      <td>Saratoga Monument</td>\n",
       "      <td>Closed</td>\n",
       "      <td>Closed</td>\n",
       "      <td>True</td>\n",
       "    </tr>\n",
       "    <tr>\n",
       "      <th>1</th>\n",
       "      <td>Belmont-Paul Women's Equality</td>\n",
       "      <td>Museum</td>\n",
       "      <td>Closed</td>\n",
       "      <td>Closed</td>\n",
       "      <td>True</td>\n",
       "    </tr>\n",
       "    <tr>\n",
       "      <th>2</th>\n",
       "      <td>Gateway Arch</td>\n",
       "      <td>Old Courthouse</td>\n",
       "      <td>Closed</td>\n",
       "      <td>Closed</td>\n",
       "      <td>True</td>\n",
       "    </tr>\n",
       "    <tr>\n",
       "      <th>3</th>\n",
       "      <td>Grand Portage</td>\n",
       "      <td>Historic Depot</td>\n",
       "      <td>Closed</td>\n",
       "      <td>Closed</td>\n",
       "      <td>True</td>\n",
       "    </tr>\n",
       "    <tr>\n",
       "      <th>4</th>\n",
       "      <td>Charles Young Buffalo Soldiers</td>\n",
       "      <td>Park Grounds</td>\n",
       "      <td>Closed</td>\n",
       "      <td>Closed</td>\n",
       "      <td>True</td>\n",
       "    </tr>\n",
       "  </tbody>\n",
       "</table>\n",
       "</div>"
      ],
      "text/plain": [
       "                             name           category thursday_hours  \\\n",
       "0                        Saratoga  Saratoga Monument         Closed   \n",
       "1   Belmont-Paul Women's Equality             Museum         Closed   \n",
       "2                    Gateway Arch     Old Courthouse         Closed   \n",
       "3                   Grand Portage     Historic Depot         Closed   \n",
       "4  Charles Young Buffalo Soldiers       Park Grounds         Closed   \n",
       "\n",
       "  closed_open  is_closed  \n",
       "0      Closed       True  \n",
       "1      Closed       True  \n",
       "2      Closed       True  \n",
       "3      Closed       True  \n",
       "4      Closed       True  "
      ]
     },
     "execution_count": 10,
     "metadata": {},
     "output_type": "execute_result"
    }
   ],
   "source": [
    "%%sql\n",
    "SELECT\n",
    "    p.name,\n",
    "    closed_thurs.category,\n",
    "    closed_thurs.thursday_hours,\n",
    "    COALESCE(closed_thurs.thursday_hours, 'Open') as closed_open,\n",
    "    NOT closed_thurs.thursday_hours IS NULL as is_closed\n",
    "FROM nps_public_data.parks p\n",
    "INNER JOIN nps_public_data.park_hours closed_thurs\n",
    "    ON closed_thurs.park_id = p.id\n",
    "    AND closed_thurs.thursday_hours = 'Closed'\n",
    "WHERE 1 = 1\n",
    "ORDER BY RANDOM()\n",
    "LIMIT 5;"
   ]
  },
  {
   "cell_type": "code",
   "execution_count": 11,
   "id": "36b4766a",
   "metadata": {
    "vscode": {
     "languageId": "sql"
    }
   },
   "outputs": [
    {
     "data": {
      "text/html": [
       "<div>\n",
       "<style scoped>\n",
       "    .dataframe tbody tr th:only-of-type {\n",
       "        vertical-align: middle;\n",
       "    }\n",
       "\n",
       "    .dataframe tbody tr th {\n",
       "        vertical-align: top;\n",
       "    }\n",
       "\n",
       "    .dataframe thead th {\n",
       "        text-align: right;\n",
       "    }\n",
       "</style>\n",
       "<table border=\"1\" class=\"dataframe\">\n",
       "  <thead>\n",
       "    <tr style=\"text-align: right;\">\n",
       "      <th></th>\n",
       "      <th>Success</th>\n",
       "    </tr>\n",
       "  </thead>\n",
       "  <tbody>\n",
       "  </tbody>\n",
       "</table>\n",
       "</div>"
      ],
      "text/plain": [
       "Empty DataFrame\n",
       "Columns: [Success]\n",
       "Index: []"
      ]
     },
     "execution_count": 11,
     "metadata": {},
     "output_type": "execute_result"
    }
   ],
   "source": [
    "%%sql\n",
    "EXPORT DATABASE '../../data/nps' (FORMAT PARQUET, COMPRESSION ZSTD, ROW_GROUP_SIZE 100000);"
   ]
  }
 ],
 "metadata": {
  "kernelspec": {
   "display_name": "Python 3",
   "language": "python",
   "name": "python3"
  },
  "language_info": {
   "codemirror_mode": {
    "name": "ipython",
    "version": 3
   },
   "file_extension": ".py",
   "mimetype": "text/x-python",
   "name": "python",
   "nbconvert_exporter": "python",
   "pygments_lexer": "ipython3",
   "version": "3.12.1"
  }
 },
 "nbformat": 4,
 "nbformat_minor": 5
}
